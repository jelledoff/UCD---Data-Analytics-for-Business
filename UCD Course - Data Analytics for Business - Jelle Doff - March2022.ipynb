{
 "cells": [
  {
   "cell_type": "markdown",
   "id": "06b524b9",
   "metadata": {},
   "source": [
    "# Introduction"
   ]
  },
  {
   "cell_type": "markdown",
   "id": "abf0334b",
   "metadata": {},
   "source": [
    "This is my assessment for the UCD Course Data Analytics for Business. I have chosen a Formula 1 World Championship dataset, given my interest in this sport and since my fellow Dutchmen Max Verstappen won the F1 title for the first time in 2021. It was the first time ever someone from the Netherlands has won the F1 Championship and it was a truly extraordinary season with excitement, drama and chaos. That season deserves an analysis.\n",
    "The 2022 championship has kicked off mid-March, so the timing of this project is great. I have based my analysis on the year of Max’s success in 2021. "
   ]
  },
  {
   "cell_type": "markdown",
   "id": "6062a1d3",
   "metadata": {},
   "source": [
    "# Starting the Data Import and Setup"
   ]
  },
  {
   "cell_type": "markdown",
   "id": "2d54094b",
   "metadata": {},
   "source": [
    "### Importing the libraries and data"
   ]
  },
  {
   "cell_type": "code",
   "execution_count": 1,
   "id": "a8010042",
   "metadata": {},
   "outputs": [],
   "source": [
    "# IMPORTING THE RELEVANT LIBRARIES\n",
    "\n",
    "import numpy as np\n",
    "import pandas as pd\n",
    "import matplotlib.pyplot as plt\n",
    "import seaborn as sns"
   ]
  },
  {
   "cell_type": "code",
   "execution_count": 2,
   "id": "7db62711",
   "metadata": {},
   "outputs": [],
   "source": [
    "# IMPORTING THE REQUIRED CSV FILES AND CREATING THE PANDA DATAFRAMES. I WILL IMPORT ONE CSV THROUGH RELATIONAL DATABASE, TO INDICATE THAT CAN BE DONE AS WELL. \n",
    "\n",
    "Results = pd.DataFrame(pd.read_csv(r'U:\\UCD Course Data Analytics\\Data\\UCD Course - Formula 1 World Championship (1950 - 2021)\\results.csv'))\n",
    "\n",
    "Drivers = pd.DataFrame(pd.read_csv(r'U:\\UCD Course Data Analytics\\Data\\UCD Course - Formula 1 World Championship (1950 - 2021)\\drivers.csv'))\n",
    "\n",
    "Standings = pd.DataFrame(pd.read_csv(r'U:\\UCD Course Data Analytics\\Data\\UCD Course - Formula 1 World Championship (1950 - 2021)\\driver_standings.csv'))\n",
    "\n",
    "Pitstops = pd.DataFrame(pd.read_csv(r'U:\\UCD Course Data Analytics\\Data\\UCD Course - Formula 1 World Championship (1950 - 2021)\\pit_stops.csv'))"
   ]
  },
  {
   "cell_type": "code",
   "execution_count": 3,
   "id": "aa4380b8",
   "metadata": {},
   "outputs": [
    {
     "name": "stdout",
     "output_type": "stream",
     "text": [
      "Result 1\n",
      "      raceId  year  round  circuitId                      name        date  \\\n",
      "0          1  2009      1          1     Australian Grand Prix  2009-03-29   \n",
      "1          2  2009      2          2      Malaysian Grand Prix  2009-04-05   \n",
      "2          3  2009      3         17        Chinese Grand Prix  2009-04-19   \n",
      "3          4  2009      4          3        Bahrain Grand Prix  2009-04-26   \n",
      "4          5  2009      5          4        Spanish Grand Prix  2009-05-10   \n",
      "...      ...   ...    ...        ...                       ...         ...   \n",
      "1075    1092  2022     19         22       Japanese Grand Prix  2022-10-09   \n",
      "1076    1093  2022     20         69  United States Grand Prix  2022-10-23   \n",
      "1077    1094  2022     21         32    Mexico City Grand Prix  2022-10-30   \n",
      "1078    1095  2022     22         18      São Paulo Grand Prix  2022-11-13   \n",
      "1079    1096  2022     23         24      Abu Dhabi Grand Prix  2022-11-20   \n",
      "\n",
      "          time                                                url  \n",
      "0     06:00:00  http://en.wikipedia.org/wiki/2009_Australian_G...  \n",
      "1     09:00:00  http://en.wikipedia.org/wiki/2009_Malaysian_Gr...  \n",
      "2     07:00:00  http://en.wikipedia.org/wiki/2009_Chinese_Gran...  \n",
      "3     12:00:00  http://en.wikipedia.org/wiki/2009_Bahrain_Gran...  \n",
      "4     12:00:00  http://en.wikipedia.org/wiki/2009_Spanish_Gran...  \n",
      "...        ...                                                ...  \n",
      "1075  05:10:00  https://en.wikipedia.org/wiki/2022_Japanese_Gr...  \n",
      "1076  19:00:00  https://en.wikipedia.org/wiki/2022_United_Stat...  \n",
      "1077  19:00:00  https://en.wikipedia.org/wiki/2022_Mexican_Gra...  \n",
      "1078  17:00:00  https://en.wikipedia.org/wiki/2022_S%C3%A3o_Pa...  \n",
      "1079  13:00:00  https://en.wikipedia.org/wiki/2022_Abu_Dhabi_G...  \n",
      "\n",
      "[1080 rows x 8 columns]\n",
      "Result 2\n",
      "      raceId                      name\n",
      "0          1     Australian Grand Prix\n",
      "1          2      Malaysian Grand Prix\n",
      "2          3        Chinese Grand Prix\n",
      "3          4        Bahrain Grand Prix\n",
      "4          5        Spanish Grand Prix\n",
      "...      ...                       ...\n",
      "1075    1092       Japanese Grand Prix\n",
      "1076    1093  United States Grand Prix\n",
      "1077    1094    Mexico City Grand Prix\n",
      "1078    1095      São Paulo Grand Prix\n",
      "1079    1096      Abu Dhabi Grand Prix\n",
      "\n",
      "[1080 rows x 2 columns]\n"
     ]
    }
   ],
   "source": [
    "# IMPORTING ONE CSV FILE THROUGH THE \"RELATIONAL DATABASE\" APPROACH\n",
    "\n",
    "from sqlalchemy import create_engine\n",
    "Races = pd.DataFrame(pd.read_csv(r'U:\\UCD Course Data Analytics\\Data\\UCD Course - Formula 1 World Championship (1950 - 2021)\\races.csv', index_col=[\"raceId\"]))\n",
    "\n",
    "# Create the database engine\n",
    "engine = create_engine('sqlite:///:memory:')\n",
    "\n",
    "# Store the dataframe as a table\n",
    "Races.to_sql('data_table', engine)\n",
    "\n",
    "# Query 1 on the relational table, to show it works\n",
    "Result1 = pd.read_sql_query('SELECT * FROM data_table', engine)\n",
    "print('Result 1')\n",
    "print(Result1)\n",
    "\n",
    "# Query 2 on the relational table, to show you can take elements of the table\n",
    "Result2 = pd.read_sql_query('SELECT RaceId,name FROM data_table group by RaceId', engine)\n",
    "print('Result 2')\n",
    "print(Result2)"
   ]
  },
  {
   "cell_type": "markdown",
   "id": "6e7623a9",
   "metadata": {},
   "source": [
    "# Checking the Data"
   ]
  },
  {
   "cell_type": "markdown",
   "id": "92e61185",
   "metadata": {},
   "source": [
    "## Check for potential errors and changing some of the column names"
   ]
  },
  {
   "cell_type": "code",
   "execution_count": 4,
   "id": "fcc68b91",
   "metadata": {},
   "outputs": [
    {
     "name": "stdout",
     "output_type": "stream",
     "text": [
      "<class 'pandas.core.frame.DataFrame'>\n",
      "Int64Index: 1080 entries, 1 to 1096\n",
      "Data columns (total 7 columns):\n",
      " #   Column     Non-Null Count  Dtype \n",
      "---  ------     --------------  ----- \n",
      " 0   year       1080 non-null   int64 \n",
      " 1   round      1080 non-null   int64 \n",
      " 2   circuitId  1080 non-null   int64 \n",
      " 3   name       1080 non-null   object\n",
      " 4   date       1080 non-null   object\n",
      " 5   time       1080 non-null   object\n",
      " 6   url        1080 non-null   object\n",
      "dtypes: int64(3), object(4)\n",
      "memory usage: 67.5+ KB\n"
     ]
    }
   ],
   "source": [
    "# CHECKING THE \"RACES\" DATA FOR POTENTIAL ERRORS\n",
    "\n",
    "Races.info()"
   ]
  },
  {
   "cell_type": "markdown",
   "id": "fcf83d42",
   "metadata": {},
   "source": [
    "No errors or missing values recorded in above RACES dataframe. I do want to rename the \"time\" column to \"race_start_time\", as it is confusing what \"time\" means here. I will change the column name below. I also want to delete the \"url\" column to remove clutter."
   ]
  },
  {
   "cell_type": "code",
   "execution_count": 5,
   "id": "ef87993c",
   "metadata": {},
   "outputs": [
    {
     "name": "stdout",
     "output_type": "stream",
     "text": [
      "<class 'pandas.core.frame.DataFrame'>\n",
      "Int64Index: 1080 entries, 1 to 1096\n",
      "Data columns (total 6 columns):\n",
      " #   Column           Non-Null Count  Dtype \n",
      "---  ------           --------------  ----- \n",
      " 0   year             1080 non-null   int64 \n",
      " 1   round            1080 non-null   int64 \n",
      " 2   circuitId        1080 non-null   int64 \n",
      " 3   name             1080 non-null   object\n",
      " 4   date             1080 non-null   object\n",
      " 5   race_start_time  1080 non-null   object\n",
      "dtypes: int64(3), object(3)\n",
      "memory usage: 59.1+ KB\n"
     ]
    }
   ],
   "source": [
    "# Changing the column name \"time\" to \"race_start_time\" as explained above\n",
    "Races.rename(columns={'time': 'race_start_time'}, inplace=True)\n",
    "\n",
    "# Drop the url column to remove clutter\n",
    "Races = Races.drop(columns=['url']) \n",
    "\n",
    "# Checking the new column headers below.\n",
    "Races.info()"
   ]
  },
  {
   "cell_type": "code",
   "execution_count": 6,
   "id": "30736de0",
   "metadata": {},
   "outputs": [
    {
     "name": "stdout",
     "output_type": "stream",
     "text": [
      "<class 'pandas.core.frame.DataFrame'>\n",
      "RangeIndex: 25399 entries, 0 to 25398\n",
      "Data columns (total 18 columns):\n",
      " #   Column           Non-Null Count  Dtype  \n",
      "---  ------           --------------  -----  \n",
      " 0   resultId         25399 non-null  int64  \n",
      " 1   raceId           25399 non-null  int64  \n",
      " 2   driverId         25399 non-null  int64  \n",
      " 3   constructorId    25399 non-null  int64  \n",
      " 4   number           25399 non-null  object \n",
      " 5   grid             25399 non-null  int64  \n",
      " 6   position         25399 non-null  object \n",
      " 7   positionText     25399 non-null  object \n",
      " 8   positionOrder    25399 non-null  int64  \n",
      " 9   points           25399 non-null  float64\n",
      " 10  laps             25399 non-null  int64  \n",
      " 11  time             25399 non-null  object \n",
      " 12  milliseconds     25399 non-null  object \n",
      " 13  fastestLap       25399 non-null  object \n",
      " 14  rank             25399 non-null  object \n",
      " 15  fastestLapTime   25399 non-null  object \n",
      " 16  fastestLapSpeed  25399 non-null  object \n",
      " 17  statusId         25399 non-null  int64  \n",
      "dtypes: float64(1), int64(8), object(9)\n",
      "memory usage: 3.5+ MB\n"
     ]
    }
   ],
   "source": [
    "# CHECKING THE \"RESULTS\" DATA FOR POTENTIAL ERRORS\n",
    "Results.info()"
   ]
  },
  {
   "cell_type": "markdown",
   "id": "286933aa",
   "metadata": {},
   "source": [
    "No errors or missing values recorded in above RESULTS dataframe. I also want to rename two columns here to avoid confusion later.\n",
    "The two columns are: \"time\" and \"milliseconds\". I will change \"Time\" to \"race_result_time\", as it is confusing what \"time\" means here. I will also change the column name \"milliseconds\" to \"milliseconds_race\" to make sure we know this column belongs to the race itself (and not the pitstops, as we will see later on). "
   ]
  },
  {
   "cell_type": "code",
   "execution_count": 7,
   "id": "db9ed505",
   "metadata": {},
   "outputs": [],
   "source": [
    "# Setting the index column for RESULTS\n",
    "#Results.set_index('resultId')"
   ]
  },
  {
   "cell_type": "code",
   "execution_count": 8,
   "id": "335cdfe0",
   "metadata": {},
   "outputs": [
    {
     "name": "stdout",
     "output_type": "stream",
     "text": [
      "<class 'pandas.core.frame.DataFrame'>\n",
      "RangeIndex: 25399 entries, 0 to 25398\n",
      "Data columns (total 18 columns):\n",
      " #   Column             Non-Null Count  Dtype  \n",
      "---  ------             --------------  -----  \n",
      " 0   resultId           25399 non-null  int64  \n",
      " 1   raceId             25399 non-null  int64  \n",
      " 2   driverId           25399 non-null  int64  \n",
      " 3   constructorId      25399 non-null  int64  \n",
      " 4   number             25399 non-null  object \n",
      " 5   grid               25399 non-null  int64  \n",
      " 6   position           25399 non-null  object \n",
      " 7   positionText       25399 non-null  object \n",
      " 8   positionOrder      25399 non-null  int64  \n",
      " 9   points             25399 non-null  float64\n",
      " 10  laps               25399 non-null  int64  \n",
      " 11  race_result_time   25399 non-null  object \n",
      " 12  milliseconds_race  25399 non-null  object \n",
      " 13  fastestLap         25399 non-null  object \n",
      " 14  rank               25399 non-null  object \n",
      " 15  fastestLapTime     25399 non-null  object \n",
      " 16  fastestLapSpeed    25399 non-null  object \n",
      " 17  statusId           25399 non-null  int64  \n",
      "dtypes: float64(1), int64(8), object(9)\n",
      "memory usage: 3.5+ MB\n"
     ]
    }
   ],
   "source": [
    "# Changing the column name \"time\" to \"race_start_time\" as explained above. \n",
    "# And also changing the \"milliseconds\" column to show this belongs to the race, as I noticed further on that the PITSTOPS dataframe has the same named column.\n",
    "Results.rename(columns={'time': 'race_result_time', 'milliseconds': 'milliseconds_race'}, inplace=True)\n",
    "\n",
    "#Checking the new column headers below.\n",
    "Results.info()"
   ]
  },
  {
   "cell_type": "code",
   "execution_count": 9,
   "id": "34c759f1",
   "metadata": {},
   "outputs": [
    {
     "name": "stdout",
     "output_type": "stream",
     "text": [
      "<class 'pandas.core.frame.DataFrame'>\n",
      "RangeIndex: 854 entries, 0 to 853\n",
      "Data columns (total 9 columns):\n",
      " #   Column       Non-Null Count  Dtype \n",
      "---  ------       --------------  ----- \n",
      " 0   driverId     854 non-null    int64 \n",
      " 1   driverRef    854 non-null    object\n",
      " 2   number       854 non-null    object\n",
      " 3   code         854 non-null    object\n",
      " 4   forename     854 non-null    object\n",
      " 5   surname      854 non-null    object\n",
      " 6   dob          854 non-null    object\n",
      " 7   nationality  854 non-null    object\n",
      " 8   url          854 non-null    object\n",
      "dtypes: int64(1), object(8)\n",
      "memory usage: 60.2+ KB\n"
     ]
    }
   ],
   "source": [
    "# CHECKING THE \"DRIVERS\" DATA FOR POTENTIAL ERRORS\n",
    "Drivers.info()"
   ]
  },
  {
   "cell_type": "code",
   "execution_count": 10,
   "id": "1b7119d4",
   "metadata": {},
   "outputs": [
    {
     "data": {
      "text/html": [
       "<div>\n",
       "<style scoped>\n",
       "    .dataframe tbody tr th:only-of-type {\n",
       "        vertical-align: middle;\n",
       "    }\n",
       "\n",
       "    .dataframe tbody tr th {\n",
       "        vertical-align: top;\n",
       "    }\n",
       "\n",
       "    .dataframe thead th {\n",
       "        text-align: right;\n",
       "    }\n",
       "</style>\n",
       "<table border=\"1\" class=\"dataframe\">\n",
       "  <thead>\n",
       "    <tr style=\"text-align: right;\">\n",
       "      <th></th>\n",
       "      <th>driverId</th>\n",
       "      <th>number</th>\n",
       "      <th>code</th>\n",
       "      <th>forename</th>\n",
       "      <th>surname</th>\n",
       "      <th>dob</th>\n",
       "      <th>nationality</th>\n",
       "      <th>url</th>\n",
       "    </tr>\n",
       "    <tr>\n",
       "      <th>driverRef</th>\n",
       "      <th></th>\n",
       "      <th></th>\n",
       "      <th></th>\n",
       "      <th></th>\n",
       "      <th></th>\n",
       "      <th></th>\n",
       "      <th></th>\n",
       "      <th></th>\n",
       "    </tr>\n",
       "  </thead>\n",
       "  <tbody>\n",
       "    <tr>\n",
       "      <th>hamilton</th>\n",
       "      <td>1</td>\n",
       "      <td>44</td>\n",
       "      <td>HAM</td>\n",
       "      <td>Lewis</td>\n",
       "      <td>Hamilton</td>\n",
       "      <td>1985-01-07</td>\n",
       "      <td>British</td>\n",
       "      <td>http://en.wikipedia.org/wiki/Lewis_Hamilton</td>\n",
       "    </tr>\n",
       "    <tr>\n",
       "      <th>heidfeld</th>\n",
       "      <td>2</td>\n",
       "      <td>\\N</td>\n",
       "      <td>HEI</td>\n",
       "      <td>Nick</td>\n",
       "      <td>Heidfeld</td>\n",
       "      <td>1977-05-10</td>\n",
       "      <td>German</td>\n",
       "      <td>http://en.wikipedia.org/wiki/Nick_Heidfeld</td>\n",
       "    </tr>\n",
       "    <tr>\n",
       "      <th>rosberg</th>\n",
       "      <td>3</td>\n",
       "      <td>6</td>\n",
       "      <td>ROS</td>\n",
       "      <td>Nico</td>\n",
       "      <td>Rosberg</td>\n",
       "      <td>1985-06-27</td>\n",
       "      <td>German</td>\n",
       "      <td>http://en.wikipedia.org/wiki/Nico_Rosberg</td>\n",
       "    </tr>\n",
       "    <tr>\n",
       "      <th>alonso</th>\n",
       "      <td>4</td>\n",
       "      <td>14</td>\n",
       "      <td>ALO</td>\n",
       "      <td>Fernando</td>\n",
       "      <td>Alonso</td>\n",
       "      <td>1981-07-29</td>\n",
       "      <td>Spanish</td>\n",
       "      <td>http://en.wikipedia.org/wiki/Fernando_Alonso</td>\n",
       "    </tr>\n",
       "    <tr>\n",
       "      <th>kovalainen</th>\n",
       "      <td>5</td>\n",
       "      <td>\\N</td>\n",
       "      <td>KOV</td>\n",
       "      <td>Heikki</td>\n",
       "      <td>Kovalainen</td>\n",
       "      <td>1981-10-19</td>\n",
       "      <td>Finnish</td>\n",
       "      <td>http://en.wikipedia.org/wiki/Heikki_Kovalainen</td>\n",
       "    </tr>\n",
       "    <tr>\n",
       "      <th>...</th>\n",
       "      <td>...</td>\n",
       "      <td>...</td>\n",
       "      <td>...</td>\n",
       "      <td>...</td>\n",
       "      <td>...</td>\n",
       "      <td>...</td>\n",
       "      <td>...</td>\n",
       "      <td>...</td>\n",
       "    </tr>\n",
       "    <tr>\n",
       "      <th>aitken</th>\n",
       "      <td>851</td>\n",
       "      <td>89</td>\n",
       "      <td>AIT</td>\n",
       "      <td>Jack</td>\n",
       "      <td>Aitken</td>\n",
       "      <td>1995-09-23</td>\n",
       "      <td>British</td>\n",
       "      <td>http://en.wikipedia.org/wiki/Jack_Aitken</td>\n",
       "    </tr>\n",
       "    <tr>\n",
       "      <th>tsunoda</th>\n",
       "      <td>852</td>\n",
       "      <td>22</td>\n",
       "      <td>TSU</td>\n",
       "      <td>Yuki</td>\n",
       "      <td>Tsunoda</td>\n",
       "      <td>2000-05-11</td>\n",
       "      <td>Japanese</td>\n",
       "      <td>http://en.wikipedia.org/wiki/Yuki_Tsunoda</td>\n",
       "    </tr>\n",
       "    <tr>\n",
       "      <th>mazepin</th>\n",
       "      <td>853</td>\n",
       "      <td>9</td>\n",
       "      <td>MAZ</td>\n",
       "      <td>Nikita</td>\n",
       "      <td>Mazepin</td>\n",
       "      <td>1999-03-02</td>\n",
       "      <td>Russian</td>\n",
       "      <td>http://en.wikipedia.org/wiki/Nikita_Mazepin</td>\n",
       "    </tr>\n",
       "    <tr>\n",
       "      <th>mick_schumacher</th>\n",
       "      <td>854</td>\n",
       "      <td>47</td>\n",
       "      <td>MSC</td>\n",
       "      <td>Mick</td>\n",
       "      <td>Schumacher</td>\n",
       "      <td>1999-03-22</td>\n",
       "      <td>German</td>\n",
       "      <td>http://en.wikipedia.org/wiki/Mick_Schumacher</td>\n",
       "    </tr>\n",
       "    <tr>\n",
       "      <th>zhou</th>\n",
       "      <td>855</td>\n",
       "      <td>\\N</td>\n",
       "      <td>ZHO</td>\n",
       "      <td>Guanyu</td>\n",
       "      <td>Zhou</td>\n",
       "      <td>1999-05-30</td>\n",
       "      <td>Chinese</td>\n",
       "      <td>https://en.wikipedia.org/wiki/Guanyu_Zhou</td>\n",
       "    </tr>\n",
       "  </tbody>\n",
       "</table>\n",
       "<p>854 rows × 8 columns</p>\n",
       "</div>"
      ],
      "text/plain": [
       "                 driverId number code  forename     surname         dob  \\\n",
       "driverRef                                                                 \n",
       "hamilton                1     44  HAM     Lewis    Hamilton  1985-01-07   \n",
       "heidfeld                2     \\N  HEI      Nick    Heidfeld  1977-05-10   \n",
       "rosberg                 3      6  ROS      Nico     Rosberg  1985-06-27   \n",
       "alonso                  4     14  ALO  Fernando      Alonso  1981-07-29   \n",
       "kovalainen              5     \\N  KOV    Heikki  Kovalainen  1981-10-19   \n",
       "...                   ...    ...  ...       ...         ...         ...   \n",
       "aitken                851     89  AIT      Jack      Aitken  1995-09-23   \n",
       "tsunoda               852     22  TSU      Yuki     Tsunoda  2000-05-11   \n",
       "mazepin               853      9  MAZ    Nikita     Mazepin  1999-03-02   \n",
       "mick_schumacher       854     47  MSC      Mick  Schumacher  1999-03-22   \n",
       "zhou                  855     \\N  ZHO    Guanyu        Zhou  1999-05-30   \n",
       "\n",
       "                nationality                                             url  \n",
       "driverRef                                                                    \n",
       "hamilton            British     http://en.wikipedia.org/wiki/Lewis_Hamilton  \n",
       "heidfeld             German      http://en.wikipedia.org/wiki/Nick_Heidfeld  \n",
       "rosberg              German       http://en.wikipedia.org/wiki/Nico_Rosberg  \n",
       "alonso              Spanish    http://en.wikipedia.org/wiki/Fernando_Alonso  \n",
       "kovalainen          Finnish  http://en.wikipedia.org/wiki/Heikki_Kovalainen  \n",
       "...                     ...                                             ...  \n",
       "aitken              British        http://en.wikipedia.org/wiki/Jack_Aitken  \n",
       "tsunoda            Japanese       http://en.wikipedia.org/wiki/Yuki_Tsunoda  \n",
       "mazepin             Russian     http://en.wikipedia.org/wiki/Nikita_Mazepin  \n",
       "mick_schumacher      German    http://en.wikipedia.org/wiki/Mick_Schumacher  \n",
       "zhou                Chinese       https://en.wikipedia.org/wiki/Guanyu_Zhou  \n",
       "\n",
       "[854 rows x 8 columns]"
      ]
     },
     "execution_count": 10,
     "metadata": {},
     "output_type": "execute_result"
    }
   ],
   "source": [
    "# Setting the index column for DRIVERS\n",
    "Drivers.set_index('driverRef')"
   ]
  },
  {
   "cell_type": "markdown",
   "id": "74c2986d",
   "metadata": {},
   "source": [
    "No errors or missing values recorded in above DRIVERS dataframe. However, I would like to concatenate the \"forename\" and \"surname\" columns into one \"full name\" column, and then drop both the \"forename\" and \"surname\" columns as we no longer need them."
   ]
  },
  {
   "cell_type": "code",
   "execution_count": 11,
   "id": "69957eff",
   "metadata": {},
   "outputs": [
    {
     "name": "stdout",
     "output_type": "stream",
     "text": [
      "<class 'pandas.core.frame.DataFrame'>\n",
      "RangeIndex: 854 entries, 0 to 853\n",
      "Data columns (total 6 columns):\n",
      " #   Column       Non-Null Count  Dtype \n",
      "---  ------       --------------  ----- \n",
      " 0   driverId     854 non-null    int64 \n",
      " 1   number       854 non-null    object\n",
      " 2   full_name    854 non-null    object\n",
      " 3   code         854 non-null    object\n",
      " 4   dob          854 non-null    object\n",
      " 5   nationality  854 non-null    object\n",
      "dtypes: int64(1), object(5)\n",
      "memory usage: 40.2+ KB\n"
     ]
    },
    {
     "data": {
      "text/html": [
       "<div>\n",
       "<style scoped>\n",
       "    .dataframe tbody tr th:only-of-type {\n",
       "        vertical-align: middle;\n",
       "    }\n",
       "\n",
       "    .dataframe tbody tr th {\n",
       "        vertical-align: top;\n",
       "    }\n",
       "\n",
       "    .dataframe thead th {\n",
       "        text-align: right;\n",
       "    }\n",
       "</style>\n",
       "<table border=\"1\" class=\"dataframe\">\n",
       "  <thead>\n",
       "    <tr style=\"text-align: right;\">\n",
       "      <th></th>\n",
       "      <th>driverId</th>\n",
       "      <th>number</th>\n",
       "      <th>full_name</th>\n",
       "      <th>code</th>\n",
       "      <th>dob</th>\n",
       "      <th>nationality</th>\n",
       "    </tr>\n",
       "  </thead>\n",
       "  <tbody>\n",
       "    <tr>\n",
       "      <th>0</th>\n",
       "      <td>1</td>\n",
       "      <td>44</td>\n",
       "      <td>Lewis Hamilton</td>\n",
       "      <td>HAM</td>\n",
       "      <td>1985-01-07</td>\n",
       "      <td>British</td>\n",
       "    </tr>\n",
       "    <tr>\n",
       "      <th>1</th>\n",
       "      <td>2</td>\n",
       "      <td>\\N</td>\n",
       "      <td>Nick Heidfeld</td>\n",
       "      <td>HEI</td>\n",
       "      <td>1977-05-10</td>\n",
       "      <td>German</td>\n",
       "    </tr>\n",
       "    <tr>\n",
       "      <th>2</th>\n",
       "      <td>3</td>\n",
       "      <td>6</td>\n",
       "      <td>Nico Rosberg</td>\n",
       "      <td>ROS</td>\n",
       "      <td>1985-06-27</td>\n",
       "      <td>German</td>\n",
       "    </tr>\n",
       "    <tr>\n",
       "      <th>3</th>\n",
       "      <td>4</td>\n",
       "      <td>14</td>\n",
       "      <td>Fernando Alonso</td>\n",
       "      <td>ALO</td>\n",
       "      <td>1981-07-29</td>\n",
       "      <td>Spanish</td>\n",
       "    </tr>\n",
       "    <tr>\n",
       "      <th>4</th>\n",
       "      <td>5</td>\n",
       "      <td>\\N</td>\n",
       "      <td>Heikki Kovalainen</td>\n",
       "      <td>KOV</td>\n",
       "      <td>1981-10-19</td>\n",
       "      <td>Finnish</td>\n",
       "    </tr>\n",
       "  </tbody>\n",
       "</table>\n",
       "</div>"
      ],
      "text/plain": [
       "   driverId number          full_name code         dob nationality\n",
       "0         1     44     Lewis Hamilton  HAM  1985-01-07     British\n",
       "1         2     \\N      Nick Heidfeld  HEI  1977-05-10      German\n",
       "2         3      6       Nico Rosberg  ROS  1985-06-27      German\n",
       "3         4     14    Fernando Alonso  ALO  1981-07-29     Spanish\n",
       "4         5     \\N  Heikki Kovalainen  KOV  1981-10-19     Finnish"
      ]
     },
     "execution_count": 11,
     "metadata": {},
     "output_type": "execute_result"
    }
   ],
   "source": [
    "# Changing the two columns \"forename\" and \"surname\" into one new \"full name\" column as described above\n",
    "Drivers['full_name'] = Drivers['forename'] +' '+ Drivers['surname']\n",
    "\n",
    "# Drop the two name columns as we no longer need them as we created a new \"full name\" column. \n",
    "# Dropping \"url\" to remove clutter\n",
    "Drivers = Drivers.drop(columns=['forename','surname','url']) \n",
    "\n",
    "# Change the order of the columns to have \"full name\" sitting next to their driver number instead of at the end.\n",
    "Drivers_new = Drivers[['driverId','number','full_name','code','dob','nationality']]\n",
    "\n",
    "# Checking the new output\n",
    "Drivers_new.info()\n",
    "Drivers_new.head()"
   ]
  },
  {
   "cell_type": "code",
   "execution_count": 12,
   "id": "b97b7119",
   "metadata": {},
   "outputs": [
    {
     "name": "stdout",
     "output_type": "stream",
     "text": [
      "<class 'pandas.core.frame.DataFrame'>\n",
      "RangeIndex: 8828 entries, 0 to 8827\n",
      "Data columns (total 7 columns):\n",
      " #   Column        Non-Null Count  Dtype \n",
      "---  ------        --------------  ----- \n",
      " 0   raceId        8828 non-null   int64 \n",
      " 1   driverId      8828 non-null   int64 \n",
      " 2   stop          8828 non-null   int64 \n",
      " 3   lap           8828 non-null   int64 \n",
      " 4   time          8828 non-null   object\n",
      " 5   duration      8828 non-null   object\n",
      " 6   milliseconds  8828 non-null   int64 \n",
      "dtypes: int64(5), object(2)\n",
      "memory usage: 482.9+ KB\n"
     ]
    }
   ],
   "source": [
    "# CHECKING THE \"PITSTOP\" DATA FOR POTENTIAL ERRORS\n",
    "Pitstops.info()"
   ]
  },
  {
   "cell_type": "markdown",
   "id": "d5f5ad0c",
   "metadata": {},
   "source": [
    "No errors or missing values recorded in above PITSTOPS dataframe. \n",
    "I do want to change the \"milliseconds\" column header to \"milliseconds_pitstops\", as we also have a similar milliseconds column header in the RESULTS dataframe. This will avoid confusion."
   ]
  },
  {
   "cell_type": "code",
   "execution_count": 13,
   "id": "10d67f1a",
   "metadata": {},
   "outputs": [
    {
     "data": {
      "text/html": [
       "<div>\n",
       "<style scoped>\n",
       "    .dataframe tbody tr th:only-of-type {\n",
       "        vertical-align: middle;\n",
       "    }\n",
       "\n",
       "    .dataframe tbody tr th {\n",
       "        vertical-align: top;\n",
       "    }\n",
       "\n",
       "    .dataframe thead th {\n",
       "        text-align: right;\n",
       "    }\n",
       "</style>\n",
       "<table border=\"1\" class=\"dataframe\">\n",
       "  <thead>\n",
       "    <tr style=\"text-align: right;\">\n",
       "      <th></th>\n",
       "      <th>driverId</th>\n",
       "      <th>stop</th>\n",
       "      <th>lap</th>\n",
       "      <th>time</th>\n",
       "      <th>duration</th>\n",
       "      <th>milliseconds</th>\n",
       "    </tr>\n",
       "    <tr>\n",
       "      <th>raceId</th>\n",
       "      <th></th>\n",
       "      <th></th>\n",
       "      <th></th>\n",
       "      <th></th>\n",
       "      <th></th>\n",
       "      <th></th>\n",
       "    </tr>\n",
       "  </thead>\n",
       "  <tbody>\n",
       "    <tr>\n",
       "      <th>841</th>\n",
       "      <td>153</td>\n",
       "      <td>1</td>\n",
       "      <td>1</td>\n",
       "      <td>17:05:23</td>\n",
       "      <td>26.898</td>\n",
       "      <td>26898</td>\n",
       "    </tr>\n",
       "    <tr>\n",
       "      <th>841</th>\n",
       "      <td>30</td>\n",
       "      <td>1</td>\n",
       "      <td>1</td>\n",
       "      <td>17:05:52</td>\n",
       "      <td>25.021</td>\n",
       "      <td>25021</td>\n",
       "    </tr>\n",
       "    <tr>\n",
       "      <th>841</th>\n",
       "      <td>17</td>\n",
       "      <td>1</td>\n",
       "      <td>11</td>\n",
       "      <td>17:20:48</td>\n",
       "      <td>23.426</td>\n",
       "      <td>23426</td>\n",
       "    </tr>\n",
       "    <tr>\n",
       "      <th>841</th>\n",
       "      <td>4</td>\n",
       "      <td>1</td>\n",
       "      <td>12</td>\n",
       "      <td>17:22:34</td>\n",
       "      <td>23.251</td>\n",
       "      <td>23251</td>\n",
       "    </tr>\n",
       "    <tr>\n",
       "      <th>841</th>\n",
       "      <td>13</td>\n",
       "      <td>1</td>\n",
       "      <td>13</td>\n",
       "      <td>17:24:10</td>\n",
       "      <td>23.842</td>\n",
       "      <td>23842</td>\n",
       "    </tr>\n",
       "    <tr>\n",
       "      <th>...</th>\n",
       "      <td>...</td>\n",
       "      <td>...</td>\n",
       "      <td>...</td>\n",
       "      <td>...</td>\n",
       "      <td>...</td>\n",
       "      <td>...</td>\n",
       "    </tr>\n",
       "    <tr>\n",
       "      <th>1073</th>\n",
       "      <td>840</td>\n",
       "      <td>2</td>\n",
       "      <td>52</td>\n",
       "      <td>18:22:55</td>\n",
       "      <td>22.661</td>\n",
       "      <td>22661</td>\n",
       "    </tr>\n",
       "    <tr>\n",
       "      <th>1073</th>\n",
       "      <td>815</td>\n",
       "      <td>3</td>\n",
       "      <td>53</td>\n",
       "      <td>18:23:09</td>\n",
       "      <td>21.385</td>\n",
       "      <td>21385</td>\n",
       "    </tr>\n",
       "    <tr>\n",
       "      <th>1073</th>\n",
       "      <td>854</td>\n",
       "      <td>2</td>\n",
       "      <td>52</td>\n",
       "      <td>18:23:42</td>\n",
       "      <td>22.070</td>\n",
       "      <td>22070</td>\n",
       "    </tr>\n",
       "    <tr>\n",
       "      <th>1073</th>\n",
       "      <td>852</td>\n",
       "      <td>2</td>\n",
       "      <td>53</td>\n",
       "      <td>18:24:01</td>\n",
       "      <td>21.909</td>\n",
       "      <td>21909</td>\n",
       "    </tr>\n",
       "    <tr>\n",
       "      <th>1073</th>\n",
       "      <td>842</td>\n",
       "      <td>2</td>\n",
       "      <td>54</td>\n",
       "      <td>18:25:56</td>\n",
       "      <td>21.920</td>\n",
       "      <td>21920</td>\n",
       "    </tr>\n",
       "  </tbody>\n",
       "</table>\n",
       "<p>8828 rows × 6 columns</p>\n",
       "</div>"
      ],
      "text/plain": [
       "        driverId  stop  lap      time duration  milliseconds\n",
       "raceId                                                      \n",
       "841          153     1    1  17:05:23   26.898         26898\n",
       "841           30     1    1  17:05:52   25.021         25021\n",
       "841           17     1   11  17:20:48   23.426         23426\n",
       "841            4     1   12  17:22:34   23.251         23251\n",
       "841           13     1   13  17:24:10   23.842         23842\n",
       "...          ...   ...  ...       ...      ...           ...\n",
       "1073         840     2   52  18:22:55   22.661         22661\n",
       "1073         815     3   53  18:23:09   21.385         21385\n",
       "1073         854     2   52  18:23:42   22.070         22070\n",
       "1073         852     2   53  18:24:01   21.909         21909\n",
       "1073         842     2   54  18:25:56   21.920         21920\n",
       "\n",
       "[8828 rows x 6 columns]"
      ]
     },
     "execution_count": 13,
     "metadata": {},
     "output_type": "execute_result"
    }
   ],
   "source": [
    "# Setting the index column for PITSTOPS\n",
    "Pitstops.set_index('raceId')"
   ]
  },
  {
   "cell_type": "code",
   "execution_count": 14,
   "id": "ad8e68da",
   "metadata": {},
   "outputs": [
    {
     "name": "stdout",
     "output_type": "stream",
     "text": [
      "<class 'pandas.core.frame.DataFrame'>\n",
      "RangeIndex: 8828 entries, 0 to 8827\n",
      "Data columns (total 7 columns):\n",
      " #   Column                 Non-Null Count  Dtype \n",
      "---  ------                 --------------  ----- \n",
      " 0   raceId                 8828 non-null   int64 \n",
      " 1   driverId               8828 non-null   int64 \n",
      " 2   stop                   8828 non-null   int64 \n",
      " 3   lap                    8828 non-null   int64 \n",
      " 4   time                   8828 non-null   object\n",
      " 5   duration               8828 non-null   object\n",
      " 6   milliseconds_pitstops  8828 non-null   int64 \n",
      "dtypes: int64(5), object(2)\n",
      "memory usage: 482.9+ KB\n"
     ]
    }
   ],
   "source": [
    "# Changing the column name \"milliseconds\" to \"milliseconds_pitstop\" as described above\n",
    "Pitstops.rename(columns={'milliseconds': 'milliseconds_pitstops'}, inplace=True)\n",
    "\n",
    "# Checking the new column header\n",
    "Pitstops.info()"
   ]
  },
  {
   "cell_type": "code",
   "execution_count": 15,
   "id": "dd1f7154",
   "metadata": {},
   "outputs": [
    {
     "name": "stdout",
     "output_type": "stream",
     "text": [
      "<class 'pandas.core.frame.DataFrame'>\n",
      "RangeIndex: 33394 entries, 0 to 33393\n",
      "Data columns (total 7 columns):\n",
      " #   Column             Non-Null Count  Dtype  \n",
      "---  ------             --------------  -----  \n",
      " 0   driverStandingsId  33394 non-null  int64  \n",
      " 1   raceId             33394 non-null  int64  \n",
      " 2   driverId           33394 non-null  int64  \n",
      " 3   points             33394 non-null  float64\n",
      " 4   position           33394 non-null  int64  \n",
      " 5   positionText       33394 non-null  object \n",
      " 6   wins               33394 non-null  int64  \n",
      "dtypes: float64(1), int64(5), object(1)\n",
      "memory usage: 1.8+ MB\n"
     ]
    }
   ],
   "source": [
    "# CHECKING THE \"STANDINGS\" DATA FOR POTENTIAL ERRORS\n",
    "Standings.info()"
   ]
  },
  {
   "cell_type": "markdown",
   "id": "6ce16456",
   "metadata": {},
   "source": [
    "No errors or missing values recorded in above STANDINGS dataframe."
   ]
  },
  {
   "cell_type": "markdown",
   "id": "895572fd",
   "metadata": {},
   "source": [
    "# Merging DataFrames"
   ]
  },
  {
   "cell_type": "markdown",
   "id": "d7499eb2",
   "metadata": {},
   "source": [
    "To analyse the imported data, we will need to merge some of these dataframes. For example: the RESULTS dataframe only contains \"driverId\" and not the driver's name. The DRIVERS dateframe contains \"driverId\" and \"full_name\", which will allow us to combine the two dataframes and put a driver's name to a race result. There are more examples like that and I will merge the dataframes in this section accordingly. "
   ]
  },
  {
   "cell_type": "code",
   "execution_count": 16,
   "id": "2f355f51",
   "metadata": {},
   "outputs": [
    {
     "name": "stdout",
     "output_type": "stream",
     "text": [
      "<class 'pandas.core.frame.DataFrame'>\n",
      "Int64Index: 25399 entries, 0 to 25398\n",
      "Data columns (total 22 columns):\n",
      " #   Column             Non-Null Count  Dtype  \n",
      "---  ------             --------------  -----  \n",
      " 0   resultId           25399 non-null  int64  \n",
      " 1   raceId             25399 non-null  int64  \n",
      " 2   driverId           25399 non-null  int64  \n",
      " 3   constructorId      25399 non-null  int64  \n",
      " 4   number             25399 non-null  object \n",
      " 5   grid               25399 non-null  int64  \n",
      " 6   position           25399 non-null  object \n",
      " 7   positionText       25399 non-null  object \n",
      " 8   positionOrder      25399 non-null  int64  \n",
      " 9   points             25399 non-null  float64\n",
      " 10  laps               25399 non-null  int64  \n",
      " 11  race_result_time   25399 non-null  object \n",
      " 12  milliseconds_race  25399 non-null  object \n",
      " 13  fastestLap         25399 non-null  object \n",
      " 14  rank               25399 non-null  object \n",
      " 15  fastestLapTime     25399 non-null  object \n",
      " 16  fastestLapSpeed    25399 non-null  object \n",
      " 17  statusId           25399 non-null  int64  \n",
      " 18  full_name          3328 non-null   object \n",
      " 19  code               3328 non-null   object \n",
      " 20  dob                3328 non-null   object \n",
      " 21  nationality        3328 non-null   object \n",
      "dtypes: float64(1), int64(8), object(13)\n",
      "memory usage: 4.5+ MB\n"
     ]
    },
    {
     "data": {
      "text/plain": [
       "resultId                 0\n",
       "raceId                   0\n",
       "driverId                 0\n",
       "constructorId            0\n",
       "number                   0\n",
       "grid                     0\n",
       "position                 0\n",
       "positionText             0\n",
       "positionOrder            0\n",
       "points                   0\n",
       "laps                     0\n",
       "race_result_time         0\n",
       "milliseconds_race        0\n",
       "fastestLap               0\n",
       "rank                     0\n",
       "fastestLapTime           0\n",
       "fastestLapSpeed          0\n",
       "statusId                 0\n",
       "full_name            22071\n",
       "code                 22071\n",
       "dob                  22071\n",
       "nationality          22071\n",
       "dtype: int64"
      ]
     },
     "execution_count": 16,
     "metadata": {},
     "output_type": "execute_result"
    }
   ],
   "source": [
    "# MERGING THE \"DRIVERS_NEW\" AND \"RESULTS\" DATAFRAMES, TO GET A NAME TO THE RESULT.\n",
    "\n",
    "# As both dataframes contain \"driverId\" and \"number\", I will use both fields to merge the data and to avoid duplicate columns.\n",
    "# I will use the LEFT join, since I want to review the race results and what drivers were involved. As our starting point is the race results, we only need to keep those rows from DRIVERS that match the RESULTS.\n",
    "Driver_Results = pd.merge(Results, Drivers_new, on=['driverId','number'], how='left')\n",
    "\n",
    "# Check to see if the merge worked well:\n",
    "Driver_Results.info()\n",
    "Driver_Results.isnull().sum()"
   ]
  },
  {
   "cell_type": "markdown",
   "id": "b9e27e2e",
   "metadata": {},
   "source": [
    "From the above ISNULL analysis we can see that tehre are 22071 records without a FULL_NAME in this new dataframe. We will drop those from the analysis as we cannot see who those records belong too (as the driver name is missing)."
   ]
  },
  {
   "cell_type": "code",
   "execution_count": 17,
   "id": "c3f55719",
   "metadata": {},
   "outputs": [
    {
     "name": "stdout",
     "output_type": "stream",
     "text": [
      "<class 'pandas.core.frame.DataFrame'>\n",
      "Int64Index: 3328 entries, 7553 to 25398\n",
      "Data columns (total 22 columns):\n",
      " #   Column             Non-Null Count  Dtype  \n",
      "---  ------             --------------  -----  \n",
      " 0   resultId           3328 non-null   int64  \n",
      " 1   raceId             3328 non-null   int64  \n",
      " 2   driverId           3328 non-null   int64  \n",
      " 3   constructorId      3328 non-null   int64  \n",
      " 4   number             3328 non-null   object \n",
      " 5   grid               3328 non-null   int64  \n",
      " 6   position           3328 non-null   object \n",
      " 7   positionText       3328 non-null   object \n",
      " 8   positionOrder      3328 non-null   int64  \n",
      " 9   points             3328 non-null   float64\n",
      " 10  laps               3328 non-null   int64  \n",
      " 11  race_result_time   3328 non-null   object \n",
      " 12  milliseconds_race  3328 non-null   object \n",
      " 13  fastestLap         3328 non-null   object \n",
      " 14  rank               3328 non-null   object \n",
      " 15  fastestLapTime     3328 non-null   object \n",
      " 16  fastestLapSpeed    3328 non-null   object \n",
      " 17  statusId           3328 non-null   int64  \n",
      " 18  full_name          3328 non-null   object \n",
      " 19  code               3328 non-null   object \n",
      " 20  dob                3328 non-null   object \n",
      " 21  nationality        3328 non-null   object \n",
      "dtypes: float64(1), int64(8), object(13)\n",
      "memory usage: 598.0+ KB\n"
     ]
    }
   ],
   "source": [
    "# WE WILL NOW DROP THE NAN/NULL VALUES FROM THE ABOVE DATAFRAME\n",
    "Driver_Results_dropna = Driver_Results.dropna()\n",
    "\n",
    "# Here we can see what the new dataframe looks like\n",
    "# It is a big drop in the data, however it does not affect our preferred dataset as used below (verified)\n",
    "Driver_Results_dropna.info()"
   ]
  },
  {
   "cell_type": "code",
   "execution_count": 18,
   "id": "455b3a15",
   "metadata": {},
   "outputs": [
    {
     "name": "stdout",
     "output_type": "stream",
     "text": [
      "<class 'pandas.core.frame.DataFrame'>\n",
      "Int64Index: 3328 entries, 0 to 3327\n",
      "Data columns (total 28 columns):\n",
      " #   Column             Non-Null Count  Dtype  \n",
      "---  ------             --------------  -----  \n",
      " 0   resultId           3328 non-null   int64  \n",
      " 1   raceId             3328 non-null   int64  \n",
      " 2   driverId           3328 non-null   int64  \n",
      " 3   constructorId      3328 non-null   int64  \n",
      " 4   number             3328 non-null   object \n",
      " 5   grid               3328 non-null   int64  \n",
      " 6   position           3328 non-null   object \n",
      " 7   positionText       3328 non-null   object \n",
      " 8   positionOrder      3328 non-null   int64  \n",
      " 9   points             3328 non-null   float64\n",
      " 10  laps               3328 non-null   int64  \n",
      " 11  race_result_time   3328 non-null   object \n",
      " 12  milliseconds_race  3328 non-null   object \n",
      " 13  fastestLap         3328 non-null   object \n",
      " 14  rank               3328 non-null   object \n",
      " 15  fastestLapTime     3328 non-null   object \n",
      " 16  fastestLapSpeed    3328 non-null   object \n",
      " 17  statusId           3328 non-null   int64  \n",
      " 18  full_name          3328 non-null   object \n",
      " 19  code               3328 non-null   object \n",
      " 20  dob                3328 non-null   object \n",
      " 21  nationality        3328 non-null   object \n",
      " 22  year               3328 non-null   int64  \n",
      " 23  round              3328 non-null   int64  \n",
      " 24  circuitId          3328 non-null   int64  \n",
      " 25  name               3328 non-null   object \n",
      " 26  date               3328 non-null   object \n",
      " 27  race_start_time    3328 non-null   object \n",
      "dtypes: float64(1), int64(11), object(16)\n",
      "memory usage: 754.0+ KB\n"
     ]
    }
   ],
   "source": [
    "# MERGING THE RACES DATAFRAME INTO THE NEWLY CREATED DATAFRAME ABOVE WILL ALLOW US TO SEE THE NAME OF THE RACE VS THE RESULT VS THE DRIVER\n",
    "\n",
    "# The matching column is \"raceId\", which I will use to merge the dataframes. \n",
    "# I will use the LEFT join, since I want to review the race results per race. As our starting point are the results, we only need to keep those rows from RACES that match the DRIVERS_RESULTS.\n",
    "Race_Results = pd.merge(Driver_Results_dropna, Races, on=['raceId'], how='left')\n",
    "\n",
    "# Check to see if the merge worked well:\n",
    "Race_Results.info()"
   ]
  },
  {
   "cell_type": "code",
   "execution_count": 19,
   "id": "c40b3be9",
   "metadata": {},
   "outputs": [
    {
     "name": "stdout",
     "output_type": "stream",
     "text": [
      "<class 'pandas.core.frame.DataFrame'>\n",
      "Int64Index: 8828 entries, 0 to 8827\n",
      "Data columns (total 33 columns):\n",
      " #   Column                 Non-Null Count  Dtype  \n",
      "---  ------                 --------------  -----  \n",
      " 0   raceId                 8828 non-null   int64  \n",
      " 1   driverId               8828 non-null   int64  \n",
      " 2   stop                   8828 non-null   int64  \n",
      " 3   lap                    8828 non-null   int64  \n",
      " 4   time                   8828 non-null   object \n",
      " 5   duration               8828 non-null   object \n",
      " 6   milliseconds_pitstops  8828 non-null   int64  \n",
      " 7   resultId               5839 non-null   float64\n",
      " 8   constructorId          5839 non-null   float64\n",
      " 9   number                 5839 non-null   object \n",
      " 10  grid                   5839 non-null   float64\n",
      " 11  position               5839 non-null   object \n",
      " 12  positionText           5839 non-null   object \n",
      " 13  positionOrder          5839 non-null   float64\n",
      " 14  points                 5839 non-null   float64\n",
      " 15  laps                   5839 non-null   float64\n",
      " 16  race_result_time       5839 non-null   object \n",
      " 17  milliseconds_race      5839 non-null   object \n",
      " 18  fastestLap             5839 non-null   object \n",
      " 19  rank                   5839 non-null   object \n",
      " 20  fastestLapTime         5839 non-null   object \n",
      " 21  fastestLapSpeed        5839 non-null   object \n",
      " 22  statusId               5839 non-null   float64\n",
      " 23  full_name              5839 non-null   object \n",
      " 24  code                   5839 non-null   object \n",
      " 25  dob                    5839 non-null   object \n",
      " 26  nationality            5839 non-null   object \n",
      " 27  year                   5839 non-null   float64\n",
      " 28  round                  5839 non-null   float64\n",
      " 29  circuitId              5839 non-null   float64\n",
      " 30  name                   5839 non-null   object \n",
      " 31  date                   5839 non-null   object \n",
      " 32  race_start_time        5839 non-null   object \n",
      "dtypes: float64(10), int64(5), object(18)\n",
      "memory usage: 2.3+ MB\n"
     ]
    }
   ],
   "source": [
    "# FINALLY WE WILL ADD PITSTOPS TO THE SAME DATAFRAME, AND WE HAVE ALL DATA - EXCEPT STANDINGS - MERGED INTO ONE DATAFRAME. THIS WILL ALLOW EASIER USAGE LATER ON\n",
    " \n",
    "# As both dataframes contain \"raceId\" and \"driverId\", I will use both fields to merge the data and thus avoid duplicates.\n",
    "Assessment_data_v1 = pd.merge(Pitstops, Race_Results, on=['raceId','driverId'], how='left')\n",
    "\n",
    "# Check to see if the merge worked well:\n",
    "Assessment_data_v1.info()"
   ]
  },
  {
   "cell_type": "code",
   "execution_count": 20,
   "id": "5f5df672",
   "metadata": {},
   "outputs": [],
   "source": [
    "# NOW I WANT TO SORT THE NEW MERGED DATAFRAME AND ASSIGN A NEW INDEX COLUMN.\n",
    "\n",
    "# Sorting the dataframe by \"data\" allows us to see the chronological order of the races, which we can later use when adding the results to graphs\n",
    "Assessment_data_v1.sort_values('date', ascending=False)\n",
    "\n",
    "# Assigning a new index column - to \"full_name\" allows us to see all results related to the driver's name when looking at the data.\n",
    "Assessment_data_v2 = Assessment_data_v1.set_index('full_name') "
   ]
  },
  {
   "cell_type": "markdown",
   "id": "1365c836",
   "metadata": {},
   "source": [
    "# Analysing the Data Results"
   ]
  },
  {
   "cell_type": "markdown",
   "id": "efeb5c90",
   "metadata": {},
   "source": [
    "## Race results and driver standings"
   ]
  },
  {
   "cell_type": "markdown",
   "id": "f0d2aec7",
   "metadata": {},
   "source": [
    "I want to start by looking at the final championship results of 2021. The year of the epic battle between Lewis Hamilton and Max Verstappen. Even non-Formula1 fans have heard about this battle, since it went to far extremes that year. "
   ]
  },
  {
   "cell_type": "code",
   "execution_count": 21,
   "id": "992b6c46",
   "metadata": {},
   "outputs": [
    {
     "name": "stdout",
     "output_type": "stream",
     "text": [
      "<class 'pandas.core.frame.DataFrame'>\n",
      "Int64Index: 450 entries, 33354 to 32967\n",
      "Data columns (total 18 columns):\n",
      " #   Column             Non-Null Count  Dtype  \n",
      "---  ------             --------------  -----  \n",
      " 0   driverStandingsId  450 non-null    int64  \n",
      " 1   raceId             450 non-null    int64  \n",
      " 2   driverId           450 non-null    int64  \n",
      " 3   points             450 non-null    float64\n",
      " 4   position           450 non-null    int64  \n",
      " 5   positionText       450 non-null    object \n",
      " 6   wins               450 non-null    int64  \n",
      " 7   number             450 non-null    object \n",
      " 8   full_name          450 non-null    object \n",
      " 9   code               450 non-null    object \n",
      " 10  dob                450 non-null    object \n",
      " 11  nationality        450 non-null    object \n",
      " 12  year               450 non-null    int64  \n",
      " 13  round              450 non-null    int64  \n",
      " 14  circuitId          450 non-null    int64  \n",
      " 15  name               450 non-null    object \n",
      " 16  date               450 non-null    object \n",
      " 17  race_start_time    450 non-null    object \n",
      "dtypes: float64(1), int64(8), object(9)\n",
      "memory usage: 66.8+ KB\n"
     ]
    }
   ],
   "source": [
    "# TO LOOK AT THE 2021 RESULTS OF THE DRIVERS STANDINGS, WE NEED TO MERGE THE \"STANDINGS\" DATAFRAME WITH THE \"DRIVERS\" DATAFRAME FIRST.\n",
    "\n",
    "# Merging dataframes DRIVERS and STANDINGS, with a LEFT join as we only need to see those drivers that are reflected in the standings.\n",
    "merge_driver_standings_v1 = pd.merge(Standings, Drivers_new, on=['driverId'], how='left')\n",
    "\n",
    "# Merging this new dataframe with RACES to allow us to filter for the relevant year(s). Note: Standings does not have a date column\n",
    "merge_standings_races_v1 = pd.merge(merge_driver_standings_v1, Races, on=['raceId'], how='left')\n",
    "\n",
    "# I will now sort this data by points to allow for a clear distribution across the graph\n",
    "Standings_sorted = merge_standings_races_v1.sort_values('points', ascending=False)\n",
    "\n",
    "# To look at 2021 only, I will now filter down this new dataframe to that year only. \n",
    "Standings_2021 = Standings_sorted[Standings_sorted['year']==2021]\n",
    "\n",
    "# Let's see the output of this new dataframe before we proceed on the graphics\n",
    "Standings_2021.info()"
   ]
  },
  {
   "cell_type": "markdown",
   "id": "d3e3dc20",
   "metadata": {},
   "source": [
    "Looking at the above outcome, there are no errors or null values in this new subset of the dataframe."
   ]
  },
  {
   "cell_type": "code",
   "execution_count": 77,
   "id": "3c06ef28",
   "metadata": {},
   "outputs": [
    {
     "name": "stdout",
     "output_type": "stream",
     "text": [
      "GRAPH 1\n"
     ]
    },
    {
     "data": {
      "image/png": "[encoded data removed]",
      "text/plain": [
       "<Figure size 1080x288 with 1 Axes>"
      ]
     },
     "metadata": {
      "needs_background": "light"
     },
     "output_type": "display_data"
    }
   ],
   "source": [
    "# PLOTTING THE 2021 DRIVER STANDINGS\n",
    "\n",
    "# Plot the data using bar() method\n",
    "plt.figure(figsize=(15,4))\n",
    "plt.bar(Standings_2021.iloc[:, 8], Standings_2021.iloc[:, 3], color='g')\n",
    "plt.title('Final Driver Standings 2021')\n",
    "plt.xlabel('Driver Name')\n",
    "plt.xticks(rotation=90)\n",
    "plt.ylabel('Number of Points (sorted High to Low)')\n",
    "  \n",
    "# Show the plot\n",
    "print('GRAPH 1')\n",
    "plt.show()"
   ]
  },
  {
   "cell_type": "markdown",
   "id": "efb4df35",
   "metadata": {},
   "source": [
    "It is very clear from above bar chart that is has been a close contest between the top 2 contenders, given they finished 2021 so close to each other in points. Let's see their actual points for 2021 and compare them."
   ]
  },
  {
   "cell_type": "code",
   "execution_count": 23,
   "id": "6be84f4a",
   "metadata": {},
   "outputs": [
    {
     "name": "stdout",
     "output_type": "stream",
     "text": [
      "Max Verstappen: 395.5\n",
      "Lewis Hamilton: 387.5\n",
      "A small difference of 8.0 points over a total of 22 races in 2021.\n"
     ]
    }
   ],
   "source": [
    "# TO HIGHLIGHT HOW CLOSE IT WAS AT THE TOP 2, I AM NOW SHOWING THE FINAL POINTS OF BOTH MAX AND LEWIS.\n",
    "Max = Standings_2021[Standings_2021.full_name == 'Max Verstappen']\n",
    "Lewis = Standings_2021[Standings_2021.full_name == 'Lewis Hamilton']\n",
    "print('Max Verstappen:', end = ' ')\n",
    "print(Max['points'].max())\n",
    "print('Lewis Hamilton:', end = ' ')\n",
    "print(Lewis['points'].max())\n",
    "print('A small difference of', end = ' ')\n",
    "print(abs(Max['points'].max()-Lewis['points'].max()), end = ' ')\n",
    "print('points over a total of', end = ' ')\n",
    "print(Standings_2021['round'].max(), end = ' ')\n",
    "print('races in 2021.')"
   ]
  },
  {
   "cell_type": "markdown",
   "id": "c5089c1e",
   "metadata": {},
   "source": [
    "As the top 2 drivers ended so close to each other in points, this requires a further analysis to see how close they were throughout the year.\n",
    "Did they compete all year round, or did one of them run away with it and the other driver caught up at the end?\n",
    "Let's see what happened in the following analysis."
   ]
  },
  {
   "cell_type": "code",
   "execution_count": 78,
   "id": "d1a275a0",
   "metadata": {},
   "outputs": [
    {
     "name": "stdout",
     "output_type": "stream",
     "text": [
      "GRAPH 2\n"
     ]
    },
    {
     "data": {
      "image/png": "[encoded data removed]",
      "text/plain": [
       "<Figure size 1080x576 with 1 Axes>"
      ]
     },
     "metadata": {
      "needs_background": "light"
     },
     "output_type": "display_data"
    }
   ],
   "source": [
    "# COMPARE THE RESULTS OF BOTH DRIVERS THROUGHOUT THE 2021 SEASON\n",
    "\n",
    "# I now want to compare the results across the races in 2021, to see how both drivers competed with each other\n",
    "fig, ax = plt.subplots() \n",
    "ax.plot(Max['round'], Max['points'], color='g', linewidth=3, label='Max')\n",
    "ax.plot(Lewis['round'], Lewis['points'], color='r', linewidth=3,label='Lewis')\n",
    "ax.set_xlabel('Races')\n",
    "ax.set_ylabel('Total Points')\n",
    "ax.set_title('Max vs Lewis in 2021 (in points)')\n",
    "leg = ax.legend()\n",
    "fig.set_size_inches([15, 8]) \n",
    "print('GRAPH 2')\n",
    "plt.show() "
   ]
  },
  {
   "cell_type": "markdown",
   "id": "17621d86",
   "metadata": {},
   "source": [
    "You can see in the above graph, that both drivers have been competing all year round, where Max Verstappen seems to have found an advantage around race 8, which soon dissolved and from around race 10 the two lines continue to stay very close together again."
   ]
  },
  {
   "cell_type": "code",
   "execution_count": 79,
   "id": "517aa5e3",
   "metadata": {},
   "outputs": [
    {
     "name": "stdout",
     "output_type": "stream",
     "text": [
      "GRAPH 3\n"
     ]
    },
    {
     "data": {
      "image/png": "[encoded data removed]",
      "text/plain": [
       "<Figure size 1080x576 with 1 Axes>"
      ]
     },
     "metadata": {
      "needs_background": "light"
     },
     "output_type": "display_data"
    }
   ],
   "source": [
    "# COMPARE THE RESULTS OF THE TOP 5 DRIVERS, JUST TO SEE HOW QUICK BOTH TOP2 DRIVERS \"DROVE AWAY\" FROM THE REST THROUGHOUT THE 2021 SEASON\n",
    "\n",
    "# Creating the 3 additional subsets of data to complete the top 5. These 3 names are taken from above bar chart with the 2021 driver standings\n",
    "Valtteri = Standings_2021[Standings_2021.full_name == 'Valtteri Bottas']\n",
    "Sergio = Standings_2021[Standings_2021.full_name == 'Sergio Pérez']\n",
    "Carlos = Standings_2021[Standings_2021.full_name == 'Carlos Sainz']\n",
    "\n",
    "# I now want to compare the results across the races in 2021, to see how all 5 drivers competed with each other\n",
    "fig, ax = plt.subplots() \n",
    "ax.plot(Max['round'], Max['points'], color='g', linewidth=3, label='Max')\n",
    "ax.plot(Lewis['round'], Lewis['points'], color='r', linewidth=3,label='Lewis')\n",
    "ax.plot(Valtteri['round'], Valtteri['points'], color='c', linewidth=3,label='Valtteri', linestyle=(0, (1, 1)))\n",
    "ax.plot(Sergio['round'], Sergio['points'], color='m', linewidth=3,label='Sergio', linestyle=(0, (1, 1)))\n",
    "ax.plot(Carlos['round'], Carlos['points'], color='y', linewidth=3,label='Carlos', linestyle=(0, (1, 1)))\n",
    "ax.set_xlabel('Races')\n",
    "ax.set_ylabel('Total Points')\n",
    "ax.set_title('Top 5 comparison in 2021 (in points)')\n",
    "leg = ax.legend()\n",
    "fig.set_size_inches([15, 8]) \n",
    "print('GRAPH 3')\n",
    "plt.show() "
   ]
  },
  {
   "cell_type": "markdown",
   "id": "60354cf8",
   "metadata": {},
   "source": [
    "The above dotted lines show the other 3 drivers (Valtteri, Sergio and Carlos) in the top 5 finished in the 2021 Formula 1 season.\n",
    "The dotted lines that move back and forth, mean that those drivers did not get any points in 2 or more consecutive races. \n",
    "We note in the above graph that from the very first race, Max and Lewis \"drove away\" from their other competitors. Around race 6-7 it was Sergio Perez that came a little closer to both Max and Lewis, but after that the gap between the top2 and the other 3 grew larger and larger. I will now compare the competition between Max and Lewis further, by looking at previous year's results."
   ]
  },
  {
   "cell_type": "code",
   "execution_count": 26,
   "id": "4ffa736a",
   "metadata": {},
   "outputs": [
    {
     "name": "stdout",
     "output_type": "stream",
     "text": [
      "Max Verstappen started in year 2015, while Lewis Hamilton started in year 2007\n"
     ]
    }
   ],
   "source": [
    "# I WOULD LIKE TO COMPARE POINTS FOR MAX AND LEWIS IN ALL YEARS THAT BOTH MAX VERSTAPPEN AND LEWIS HAMILTON RACED TOGETHER. WE KNOW NOW THAT 2021 WAS A CLOSE SEASON, BUT HOW DID THE OTHER SEASONS END?\n",
    "\n",
    "# Let's start by finding out in what year Max Verstappen and Lewis Hamilton joined Formula 1\n",
    "Max_all_years_v1 = Standings_sorted[Standings_sorted.full_name == 'Max Verstappen']\n",
    "Max_start_year = Max_all_years_v1['year'].min()\n",
    "Lewis_all_years_v1 = Standings_sorted[Standings_sorted.full_name == 'Lewis Hamilton']\n",
    "Lewis_start_year = Lewis_all_years_v1['year'].min()\n",
    "print('Max Verstappen started in year', end = ' ')\n",
    "print(Max_start_year, end = '')\n",
    "print(', while Lewis Hamilton started in year', end = ' ')\n",
    "print(Lewis_start_year)"
   ]
  },
  {
   "cell_type": "markdown",
   "id": "406600dd",
   "metadata": {},
   "source": [
    "Now that we know that Max started in 2015 and Lewis in 2007, I want to compare their results since 2015 only, since Max wasn't present in F1 before that."
   ]
  },
  {
   "cell_type": "code",
   "execution_count": 80,
   "id": "eec0e55e",
   "metadata": {},
   "outputs": [
    {
     "name": "stdout",
     "output_type": "stream",
     "text": [
      "GRAPH 4\n"
     ]
    },
    {
     "data": {
      "image/png": "[encoded data removed]",
      "text/plain": [
       "<Figure size 1080x288 with 1 Axes>"
      ]
     },
     "metadata": {
      "needs_background": "light"
     },
     "output_type": "display_data"
    }
   ],
   "source": [
    "# WE WILL NEED TO FILTER THE STANDING RESULTS FOR THE YEARS 2015 AND LATER\n",
    "\n",
    "# To look at all years since 2015, I will now filter down the dataframe accordingly. \n",
    "Standings_v1 = Standings_sorted[Standings_sorted['year']>2014] # as Max started in 2015 and that will be our starting point for this particular analysis\n",
    "Standings_since2015 = Standings_v1[Standings_v1['year']<2022] # as we have not raced in 2022 when I started this analysis\n",
    "\n",
    "# COMPARING MAX VS LEWIS THROUGHOUT THE YEAR\n",
    "Max_since2015 = Standings_since2015[Standings_since2015.full_name == 'Max Verstappen']\n",
    "Lewis_since2015 = Standings_since2015[Standings_since2015.full_name == 'Lewis Hamilton']\n",
    "\n",
    "# Plot the data using bar() method\n",
    "plt.figure(figsize=(15,4))\n",
    "plt.bar(Max_since2015['year']-0.2, Max_since2015['points'], width=0.4, color='g', label = 'Max') #to allow both columns to be presented alongside\n",
    "plt.bar(Lewis_since2015['year']+0.2, Lewis_since2015['points'], width=0.4, color='r', label = 'Lewis') #to allow both columns to be presented alongside\n",
    "plt.title('Max vs Lewis since 2015')\n",
    "plt.xlabel('Year')\n",
    "plt.xticks(rotation=90)\n",
    "plt.legend(loc='lower right')\n",
    "plt.ylabel('Number of Points')\n",
    "# Show the plot\n",
    "print('GRAPH 4')\n",
    "plt.show()"
   ]
  },
  {
   "cell_type": "code",
   "execution_count": 93,
   "id": "b6d7a933",
   "metadata": {},
   "outputs": [
    {
     "name": "stdout",
     "output_type": "stream",
     "text": [
      "Max Results since 2015\n",
      "year\n",
      "2015     49.0\n",
      "2016    204.0\n",
      "2017    168.0\n",
      "2018    249.0\n",
      "2019    278.0\n",
      "2020    214.0\n",
      "2021    395.5\n",
      "Name: points, dtype: float64\n",
      "222.5\n"
     ]
    }
   ],
   "source": [
    "print('Max Results since 2015')\n",
    "print(Max_since2015.groupby(['year'])['points'].max()) # showing the max values per year\n",
    "\n",
    "print((Max_since2015.groupby(['year'])['points'].max().mean())) # showing the mean value across these years"
   ]
  },
  {
   "cell_type": "code",
   "execution_count": 92,
   "id": "b4f88b02",
   "metadata": {},
   "outputs": [
    {
     "name": "stdout",
     "output_type": "stream",
     "text": [
      "Lewis Results since 2015\n",
      "year\n",
      "2015    381.0\n",
      "2016    380.0\n",
      "2017    363.0\n",
      "2018    408.0\n",
      "2019    413.0\n",
      "2020    347.0\n",
      "2021    387.5\n",
      "Name: points, dtype: float64\n",
      "382.7857142857143\n"
     ]
    }
   ],
   "source": [
    "print('Lewis Results since 2015')\n",
    "print(Lewis_since2015.groupby(['year'])['points'].max()) # showing the max values per year\n",
    "      \n",
    "print((Lewis_since2015.groupby(['year'])['points'].max().mean())) # showing the mean value across these years"
   ]
  },
  {
   "cell_type": "markdown",
   "id": "7a432b6f",
   "metadata": {},
   "source": [
    "Looking at above graph - and the 2 printed outputs - with all results since 2015 for Max and Lewis, it looks like Max has outperformed himself in 2021 compared to all previous years. His total points in 2021 appear much higher than other years.\n",
    "Lewis 2021 result was better than his points-total in years 2015, 2016 and 2017. \n",
    "Now I would like to see the number of wins and podium places in 2021 itself."
   ]
  },
  {
   "cell_type": "code",
   "execution_count": 81,
   "id": "dfa7d4ac",
   "metadata": {},
   "outputs": [
    {
     "name": "stdout",
     "output_type": "stream",
     "text": [
      "GRAPH 5\n"
     ]
    },
    {
     "data": {
      "image/png": "[encoded data removed]",
      "text/plain": [
       "<Figure size 1080x288 with 1 Axes>"
      ]
     },
     "metadata": {
      "needs_background": "light"
     },
     "output_type": "display_data"
    }
   ],
   "source": [
    "# SHOWING THE NUMBER OF WINS FIRST\n",
    "\n",
    "# To do this, we can use the same Standings dataframe we created above. This dataframe contains the WINS column that we can look at\n",
    "\n",
    "# Plot the data using bar() method\n",
    "plt.figure(figsize=(15,4))\n",
    "plt.bar(Standings_2021['full_name'], Standings_2021['wins'], color='gold')\n",
    "plt.title('Number of Wins in 2021')\n",
    "plt.xlabel('Driver Name')\n",
    "plt.xticks(rotation=90)\n",
    "plt.ylabel('Number of Wins')\n",
    "  \n",
    "# Show the plot\n",
    "print('GRAPH 5')\n",
    "plt.show()"
   ]
  },
  {
   "cell_type": "markdown",
   "id": "aa8179bb",
   "metadata": {},
   "source": [
    "Above graph shows us that both Max and Lewis were very close in race wins (10 vs 8), whereas other drivers only won a race once each. A very close battle between just two drivers all year round!"
   ]
  },
  {
   "cell_type": "markdown",
   "id": "54fafe9b",
   "metadata": {},
   "source": [
    "## Pitstops and race wins"
   ]
  },
  {
   "cell_type": "markdown",
   "id": "97f1e743",
   "metadata": {},
   "source": [
    "As we can now see who won the most races and the championship, let's also look at the pitstops and merely the pitstop speed. Did the pitstop speed have an influence on the race results?\n",
    "Did either one of the two contenders have a faster pitstop throughout the year?"
   ]
  },
  {
   "cell_type": "code",
   "execution_count": 31,
   "id": "a340fd85",
   "metadata": {},
   "outputs": [],
   "source": [
    "# WE WILL NEED TO CONNECT THE PITSTOPS DATAFRAME TO DRIVER STANDINGS AND THE RACES DATAFRAMES.\n",
    "\n",
    "# First we will connect the Pitstops to the Standings, on both raceId and driverId - as both columns appear in both dataframes\n",
    "Driver_Pitstops_v1 = pd.merge(Pitstops, Standings, on=['raceId', 'driverId'], how='left') \n",
    "\n",
    "# Now we will connect this new dataframe to the DRIVERS_NEW dataframe we created earlier, to allow us to connect a name to the result\n",
    "Driver_Pitstops_v2 = pd.merge(Driver_Pitstops_v1, Drivers_new, on=['driverId'], how='left')\n",
    "\n",
    "# Lastly we need to add in the RACES dataframe, to enable us to filter for the relevant year\n",
    "Driver_Pitstops_v3 = pd.merge(Driver_Pitstops_v2, Races, on=['raceId'], how='left')\n",
    "Driver_Pitstops = Driver_Pitstops_v3[Driver_Pitstops_v3['year']==2021]"
   ]
  },
  {
   "cell_type": "code",
   "execution_count": 39,
   "id": "bd68ee9b",
   "metadata": {},
   "outputs": [
    {
     "name": "stdout",
     "output_type": "stream",
     "text": [
      "<class 'pandas.core.frame.DataFrame'>\n",
      "Int64Index: 798 entries, 8030 to 8827\n",
      "Data columns (total 23 columns):\n",
      " #   Column                 Non-Null Count  Dtype  \n",
      "---  ------                 --------------  -----  \n",
      " 0   raceId                 798 non-null    int64  \n",
      " 1   driverId               798 non-null    int64  \n",
      " 2   stop                   798 non-null    int64  \n",
      " 3   lap                    798 non-null    int64  \n",
      " 4   time                   798 non-null    object \n",
      " 5   duration               798 non-null    object \n",
      " 6   milliseconds_pitstops  798 non-null    int64  \n",
      " 7   driverStandingsId      798 non-null    float64\n",
      " 8   points                 798 non-null    float64\n",
      " 9   position               798 non-null    float64\n",
      " 10  positionText           798 non-null    object \n",
      " 11  wins                   798 non-null    float64\n",
      " 12  number                 798 non-null    object \n",
      " 13  full_name              798 non-null    object \n",
      " 14  code                   798 non-null    object \n",
      " 15  dob                    798 non-null    object \n",
      " 16  nationality            798 non-null    object \n",
      " 17  year                   798 non-null    int64  \n",
      " 18  round                  798 non-null    int64  \n",
      " 19  circuitId              798 non-null    int64  \n",
      " 20  name                   798 non-null    object \n",
      " 21  date                   798 non-null    object \n",
      " 22  race_start_time        798 non-null    object \n",
      "dtypes: float64(4), int64(8), object(11)\n",
      "memory usage: 149.6+ KB\n"
     ]
    },
    {
     "data": {
      "text/plain": [
       "raceId                   0\n",
       "driverId                 0\n",
       "stop                     0\n",
       "lap                      0\n",
       "time                     0\n",
       "duration                 0\n",
       "milliseconds_pitstops    0\n",
       "driverStandingsId        0\n",
       "points                   0\n",
       "position                 0\n",
       "positionText             0\n",
       "wins                     0\n",
       "number                   0\n",
       "full_name                0\n",
       "code                     0\n",
       "dob                      0\n",
       "nationality              0\n",
       "year                     0\n",
       "round                    0\n",
       "circuitId                0\n",
       "name                     0\n",
       "date                     0\n",
       "race_start_time          0\n",
       "dtype: int64"
      ]
     },
     "execution_count": 39,
     "metadata": {},
     "output_type": "execute_result"
    }
   ],
   "source": [
    "Driver_Pitstops.info()\n",
    "Driver_Pitstops.isnull().sum()"
   ]
  },
  {
   "cell_type": "code",
   "execution_count": 82,
   "id": "db221ba9",
   "metadata": {},
   "outputs": [
    {
     "name": "stdout",
     "output_type": "stream",
     "text": [
      "GRAPH 6\n"
     ]
    },
    {
     "data": {
      "image/png": "[encoded data removed]",
      "text/plain": [
       "<Figure size 360x360 with 1 Axes>"
      ]
     },
     "metadata": {
      "needs_background": "light"
     },
     "output_type": "display_data"
    }
   ],
   "source": [
    "# WE CAN NOW CHECK THE NEW PITSTOP DATAFRAME FOR THE DISTRIBUTION OF THE PITSTOP SPEED\n",
    "\n",
    "sns.displot(Driver_Pitstops[\"milliseconds_pitstops\"],bins=10,kde=False)\n",
    "print('GRAPH 6')\n",
    "plt.show()"
   ]
  },
  {
   "cell_type": "code",
   "execution_count": 83,
   "id": "93c29ac1",
   "metadata": {},
   "outputs": [
    {
     "name": "stdout",
     "output_type": "stream",
     "text": [
      "GRAPH 7\n"
     ]
    },
    {
     "data": {
      "image/png": "[encoded data removed]",
      "text/plain": [
       "<Figure size 360x360 with 1 Axes>"
      ]
     },
     "metadata": {
      "needs_background": "light"
     },
     "output_type": "display_data"
    }
   ],
   "source": [
    "# THIS PITSTOP DATA FOR SPEED SEEMS TO CONTAIN SEVERAL OUTLIERS. LOOKING AT THIS DATA - IN MILLISECONDS - WE CAN SEE THAT THE VAST MAJORITY SITS WITHIN THE ONE BIG BUCKET AND THE REST APPEARS TO BE AN OUTLIER.\n",
    "\n",
    "# We will need to remove those outliers to get a better analysis. \n",
    "# These outliers most likely contain pitstops with big failures or total \"Did Not Finish\" results\n",
    "# I did an outlier analysis with Python but that did not cut the mustard, as it kept too many outliers in play\n",
    "# I have decided to allocate an outlier cut-off manually: anything over 100000 milliseconds is considered an outlier for this exercise\n",
    "Driver_Pitstops_no_outliers = Driver_Pitstops[(Driver_Pitstops['milliseconds_pitstops'] < 100000)]\n",
    "\n",
    "# We can now show the new distribution of the pitstop speed in milliseconds\n",
    "sns.displot(Driver_Pitstops_no_outliers[\"milliseconds_pitstops\"],bins=10,kde=False)\n",
    "print('GRAPH 7')\n",
    "plt.show()"
   ]
  },
  {
   "cell_type": "markdown",
   "id": "2b61533c",
   "metadata": {},
   "source": [
    "This new distribution seems far more reflective of the actual \"correct\" pitstop speed than the previous distribution did. We can use this data to add to our analysis."
   ]
  },
  {
   "cell_type": "code",
   "execution_count": 84,
   "id": "2ad97a04",
   "metadata": {},
   "outputs": [
    {
     "name": "stdout",
     "output_type": "stream",
     "text": [
      "GRAPH 8\n"
     ]
    },
    {
     "data": {
      "image/png": "[encoded data removed]",
      "text/plain": [
       "<Figure size 1080x288 with 1 Axes>"
      ]
     },
     "metadata": {
      "needs_background": "light"
     },
     "output_type": "display_data"
    }
   ],
   "source": [
    "# PLOTTING THE 2021 AVERAGE PITSTOP SPEED PER DRIVER\n",
    "\n",
    "print('GRAPH 8')\n",
    "Driver_Pitstops_no_outliers.groupby(['full_name'])['milliseconds_pitstops'].mean().sort_values().plot(kind=\"bar\", title = '2021 Average Pitstop Speed (in milliseconds)', color='grey', figsize=(15,4))\n",
    "plt.xlabel('Driver Name')\n",
    "plt.ylabel('Pitstop speed in milliseconds');"
   ]
  },
  {
   "cell_type": "markdown",
   "id": "ef3f39f0",
   "metadata": {},
   "source": [
    "Above graph shows a clear distribution in pitstop speed in 2021 (average) - sorted from LOW to HIGh from left to right. \n",
    "What we can see is that Robert Kubica was the quickest in 2021 and Mick Schumacher the slowest in pitstops. \n",
    "Max Verstappen was the 2nd fastest, whereas Lewis Hamilton is right in the middle of the averages (10th). \n",
    "Did the slower pitstops cost Lewis Hamilton the championship?\n",
    "We can also check all the pitstops in 2021 for both drivers with a scatterplot and see how both relate to eachother."
   ]
  },
  {
   "cell_type": "code",
   "execution_count": 108,
   "id": "c6817c2e",
   "metadata": {},
   "outputs": [
    {
     "name": "stdout",
     "output_type": "stream",
     "text": [
      "GRAPH 9\n"
     ]
    },
    {
     "data": {
      "image/png": "[encoded data removed]",
      "text/plain": [
       "<Figure size 1080x432 with 1 Axes>"
      ]
     },
     "metadata": {
      "needs_background": "light"
     },
     "output_type": "display_data"
    }
   ],
   "source": [
    "# CREATING A SCATTERPLOT ON PITSTOPS FOR BOTH MAX VERSTAPPEN AND LEWIS HAMILTON\n",
    "\n",
    "# Creating the pitstop dataframes for both drivers\n",
    "Max_pitstops_2021 = Driver_Pitstops_no_outliers[Driver_Pitstops_no_outliers.full_name == 'Max Verstappen']\n",
    "Lewis_pitstops_2021 = Driver_Pitstops_no_outliers[Driver_Pitstops_no_outliers.full_name == 'Lewis Hamilton']\n",
    "\n",
    "# Concatenating both dataframes to model them together in one scatterplot\n",
    "concatenated = pd.concat([Lewis_pitstops_2021.assign(Lewis_pitstops_2021='milliseconds_pitstops'), Max_pitstops_2021.assign(Max_pitstops_2021='milliseconds_pitstops')])\n",
    "\n",
    "# Creating the scatterplot\n",
    "plt.figure(figsize=(15,6))\n",
    "sns.scatterplot(x='milliseconds_pitstops', y='round', data=concatenated,\n",
    "                hue='full_name', s=100)\n",
    "plt.title('Pitstop speed in 2021 (in milliseconds)', size=14)\n",
    "plt.xlabel('Pitstop in Milliseconds', size=10)\n",
    "plt.ylabel('Race Round', size=10)\n",
    "plt.legend();\n",
    "print('GRAPH 9')\n",
    "plt.show()"
   ]
  },
  {
   "cell_type": "markdown",
   "id": "aeef7c94",
   "metadata": {},
   "source": [
    "Above scatterplot shows the distribution of all pitstops taken in 2021 for both Lewis and Max. What we notice is that the biggest outliers (~ > 38000) are all for Lewis. The quickest pitstop is also for Lewis (~ 10000).\n",
    "Between there is a pretty even distribution around the 20000 - 25000 mark. "
   ]
  },
  {
   "cell_type": "code",
   "execution_count": 36,
   "id": "3a18fb6d",
   "metadata": {},
   "outputs": [
    {
     "name": "stdout",
     "output_type": "stream",
     "text": [
      "Numpy Array check: <class 'numpy.ndarray'>\n",
      "\n",
      "The following data points are NOT based on the average pitstop speeds, but the actual individual pitstops.\n",
      "Quickest pitstop in 2021 in milliseconds is: 14881\n",
      "Slowest pitstop in 2021 in milliseconds is: 86440\n"
     ]
    }
   ],
   "source": [
    "# WE CAN ALSO CHECK THE ACTUAL QUICKEST AND SLOWEST PITSTOPS IN 2021 BY USING A NUMPY ARRAY\n",
    " \n",
    "# First we can convert the pitstop data to a numpy array\n",
    "Pitstop_speed_data = Driver_Pitstops_no_outliers['milliseconds_pitstops'].to_numpy()\n",
    "print('Numpy Array check:', end = ' ')\n",
    "print(type(Pitstop_speed_data)) #To check if we did set up a numpy array \n",
    "\n",
    "print('')\n",
    "print('The following data points are NOT based on the average pitstop speeds, but the actual individual pitstops.')\n",
    "print('Quickest pitstop in 2021 in milliseconds is:', end = ' ')\n",
    "print(Pitstop_speed_data.min())\n",
    "print('Slowest pitstop in 2021 in milliseconds is:', end = ' ')\n",
    "print(Pitstop_speed_data.max())"
   ]
  },
  {
   "cell_type": "markdown",
   "id": "8828eac4",
   "metadata": {},
   "source": [
    "# Conclusions"
   ]
  },
  {
   "cell_type": "markdown",
   "id": "30cfcb20",
   "metadata": {},
   "source": [
    "## Insights from Data Visualisation"
   ]
  },
  {
   "cell_type": "markdown",
   "id": "ea1c95c7",
   "metadata": {},
   "source": [
    "My insights from above data visualisations are as follows. i have numbered my graphs (\"GRAPH X\") in above analysis, to make referring to them here a little easier. \n",
    "1. The 2021 season appears to have been a contest between only two drivers (Graph 2 & 3). From Race 1 onwards both Lewis and Max show an almost lineair line in points towards the last race. The other 3 drivers in the top 5 do not show a similar lineair increase and their points appear to be more fluctuating each race (Graph 3). That tells me that \"the rest of the pack\" were close to each other as well, but almost consistently finishing below Lewis and Max. \n",
    "2. Lewis Hamilton seems to be very constistent in his driving and his end result each season (Graph 4). When we look at Lewis' results since 2015 - as we were comparing Max vs Lewis in the years they drove together - we can see that Lewis is scoring an average of 383 points per season, and his 2021 result is well above that average. Max Verstappen on the other hand is scoring an average of 223 points per season since 2015 (and an average of 296 over the last 3 years only). Max seems to have outperformed himself in 2021 with a total of 395.5 points (well above his averages). \n",
    "3. When looking at the number of wins only (Graph 5), we can once again see that both Max and Lewis were close in that aspect as well. Max finished with 10 wins, where Lewis finished with 8 wins. There were only 4(!) other race winners in the whole season (of 22 races), and each of these 4 winners only won once. \n",
    "4. The average pitstop speed fluctuates per driver, however this would need to be seen in it's relative aspect. We are looking at milliseconds, so while the differences might look big, it is only relative to the sport and the importance of timing. It does look interesting that Max Verstappen's pitstops are  far quicker (relatively) than Lewis Hamilton, where Verstappen is second fastest and Lewis is tenth fastest. For two close contenders, that looks like a big difference to me.\n",
    "5. Looking at the scatterplot for pitstop speed (Graph 5), it appears that Lewis has most of the outliers: the longest and well as the shortest pitstop(s). Most of their pitstops are very close together, centered around the 20k - 25k milliseconds. \n",
    "\n"
   ]
  },
  {
   "cell_type": "markdown",
   "id": "291259c5",
   "metadata": {},
   "source": [
    "## Machine Learning"
   ]
  },
  {
   "cell_type": "markdown",
   "id": "eb41daf6",
   "metadata": {},
   "source": [
    "#### Future predictions using Machine Learning or Deep Learning\n",
    "* Pitstop speed: based on historical data, per driver, per team and per race, machine learning could predict how long a pitstop will take. When handed enough data, machine learning could take weather aspects and/or damage to the car into account. An accurate prediction of pitstop speed could then be set. When for example team X can predict how long team Y's pitstop will take, it could use that information to try to adjust their own strategy during the race. \n",
    "* Driver behavior: based on historical data, per driver, per race and weather circumstances, machine learning could also predict a driver's race behavior. When does the driver brake in a certain corner, what lap does the driver tend the make their pitstop, do they make aggressive overtaking moves, what is their favorite overtaking angle (inside/outside), etc. When competing with one or two specific drivers in a season, one could utilise this data to specifically analyse their competitors and learn from their behavior to predict their moves. \n",
    "* I think these predictions could be prone to Deep Learning, as there are so many data points in Formula 1 that we could structure algorithms in layers (per element), that can be used to learn and provide intelligent suggestions to the teams. "
   ]
  },
  {
   "cell_type": "markdown",
   "id": "ace6d5de",
   "metadata": {},
   "source": [
    "#### Classification or Regression Modelling\n",
    "* For future machine learning on this data, I would choose Regression moddeling. The reason for that is that we do not need a simple label as our output, as we get with Classification modelling, but we need a continous variable as our output. We need to know the timing of race events and the time it takes.\n",
    "    *  For example: team X does not simply want to know whether team Y will make a pitstop or not (pitstop: yes/no), but when does this pitstop happen, how long will it take, etc."
   ]
  },
  {
   "cell_type": "markdown",
   "id": "8e7873f1",
   "metadata": {},
   "source": [
    "# The End. Thanks for reading!"
   ]
  },
  {
   "cell_type": "code",
   "execution_count": null,
   "id": "a6bd0d76",
   "metadata": {},
   "outputs": [],
   "source": []
  }
 ],
 "metadata": {
  "kernelspec": {
   "display_name": "Python 3 (ipykernel)",
   "language": "python",
   "name": "python3"
  },
  "language_info": {
   "codemirror_mode": {
    "name": "ipython",
    "version": 3
   },
   "file_extension": ".py",
   "mimetype": "text/x-python",
   "name": "python",
   "nbconvert_exporter": "python",
   "pygments_lexer": "ipython3",
   "version": "3.9.7"
  }
 },
 "nbformat": 4,
 "nbformat_minor": 5
}
